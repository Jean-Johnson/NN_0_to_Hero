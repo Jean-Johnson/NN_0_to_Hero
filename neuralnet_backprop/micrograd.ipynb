{
 "cells": [
  {
   "cell_type": "code",
   "execution_count": 55,
   "metadata": {},
   "outputs": [],
   "source": [
    "import math\n",
    "import numpy as np\n",
    "import matplotlib.pyplot as plt\n",
    "from graphviz import Digraph\n",
    "%matplotlib inline"
   ]
  },
  {
   "cell_type": "code",
   "execution_count": 34,
   "metadata": {},
   "outputs": [],
   "source": [
    "def f_linear(m,b,x):\n",
    "    \"\"\" Linear Function \"\"\"\n",
    "    return m*x+b\n",
    "def f_parabola(a,b,c,x):\n",
    "    \"\"\" parabola function \"\"\"\n",
    "    return  a*x**2.0 + b*x + c"
   ]
  },
  {
   "cell_type": "code",
   "execution_count": 12,
   "metadata": {},
   "outputs": [
    {
     "data": {
      "image/png": "[encoded data removed]",
      "text/plain": [
       "<Figure size 640x480 with 1 Axes>"
      ]
     },
     "metadata": {},
     "output_type": "display_data"
    }
   ],
   "source": [
    "x = np.arange(-5,5,0.25)\n",
    "yl = f_linear(1,2,x)\n",
    "yp = f_parabola(3,4,2,x)\n",
    "plt.plot(x,yl,label=\"linear function\")\n",
    "plt.plot(x,yp,label=\"parabolic function\")\n",
    "plt.xlabel('x')\n",
    "plt.ylabel('y')\n",
    "plt.legend()\n",
    "plt.show()"
   ]
  },
  {
   "cell_type": "code",
   "execution_count": 43,
   "metadata": {},
   "outputs": [
    {
     "data": {
      "text/plain": [
       "41.0"
      ]
     },
     "execution_count": 43,
     "metadata": {},
     "output_type": "execute_result"
    }
   ],
   "source": [
    "h = 0.001\n",
    "x = 3.0\n",
    "f_parabola(3.0,4.0,2.0,x)"
   ]
  },
  {
   "cell_type": "code",
   "execution_count": 45,
   "metadata": {},
   "outputs": [
    {
     "data": {
      "text/plain": [
       "22.002999999997996"
      ]
     },
     "execution_count": 45,
     "metadata": {},
     "output_type": "execute_result"
    }
   ],
   "source": [
    "(f_parabola(3,4,2,x+h) -  f_parabola(3,4,2,x))/h"
   ]
  },
  {
   "cell_type": "code",
   "execution_count": 50,
   "metadata": {},
   "outputs": [
    {
     "name": "stdout",
     "output_type": "stream",
     "text": [
      "d :  4.0\n",
      "da :  3.999699999999999\n",
      "db :  4.0002\n",
      "dc :  4.0001\n",
      "slope when a changes:  -3.000000000010772\n",
      "slope when b changes:  2.0000000000042206\n",
      "slope when c changes:  0.9999999999976694\n"
     ]
    }
   ],
   "source": [
    "## more example\n",
    "a = 2.0\n",
    "b = -3.0\n",
    "c = 10.0\n",
    "h = 0.0001\n",
    "d = a*b + c\n",
    "da = (a+h)*b + c\n",
    "db = a*(b+h) + c\n",
    "dc = a*b + (c+h)\n",
    "\n",
    "print(\"d : \",d)\n",
    "print(\"da : \",da)\n",
    "print(\"db : \",db)\n",
    "print(\"dc : \",dc)\n",
    "\n",
    "# slope\n",
    "print(\"slope when a changes: \", (da - d)/h )\n",
    "print(\"slope when b changes: \", (db - d)/h )\n",
    "print(\"slope when c changes: \", (dc - d)/h )\n",
    "\n"
   ]
  },
  {
   "cell_type": "markdown",
   "metadata": {},
   "source": [
    "# create core Value object"
   ]
  },
  {
   "cell_type": "code",
   "execution_count": 67,
   "metadata": {},
   "outputs": [
    {
     "data": {
      "text/plain": [
       "(Value(data=30.0), (Value(data=20.0), Value(data=10.0)))"
      ]
     },
     "execution_count": 67,
     "metadata": {},
     "output_type": "execute_result"
    }
   ],
   "source": [
    "class Value:\n",
    "    def __init__(self, data, _children=(), _op='', label='') -> None:\n",
    "        self.data = data\n",
    "        self._prev = _children\n",
    "        self._op = _op\n",
    "        self.label = label\n",
    "\n",
    "    def __repr__(self) -> str:\n",
    "        return f\"Value(data={self.data})\"\n",
    "    \n",
    "    def __add__(self,other):\n",
    "        out = Value(self.data + other.data,(self, other),\"+\")\n",
    "        return out\n",
    "    \n",
    "    def __mul__(self,other):\n",
    "        out = Value(self.data * other.data,(self, other), \"*\")\n",
    "        return out\n",
    "    \n",
    "\n",
    "a = Value(2.0,label='a')\n",
    "b = Value(-3.0,label='b')\n",
    "c = Value(10.0,label='c')\n",
    "e = a*c; e.label = 'e'\n",
    "d = e + c; d.label = 'd'\n",
    "d, d._prev"
   ]
  },
  {
   "cell_type": "code",
   "execution_count": null,
   "metadata": {},
   "outputs": [],
   "source": [
    "at 54:00 neuron"
   ]
  }
 ],
 "metadata": {
  "kernelspec": {
   "display_name": "NN_0_to_Hero-9XbHFYzq",
   "language": "python",
   "name": "python3"
  },
  "language_info": {
   "codemirror_mode": {
    "name": "ipython",
    "version": 3
   },
   "file_extension": ".py",
   "mimetype": "text/x-python",
   "name": "python",
   "nbconvert_exporter": "python",
   "pygments_lexer": "ipython3",
   "version": "3.10.4"
  }
 },
 "nbformat": 4,
 "nbformat_minor": 2
}
